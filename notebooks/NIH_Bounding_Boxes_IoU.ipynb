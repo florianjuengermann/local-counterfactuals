{
  "cells": [
    {
      "cell_type": "code",
      "execution_count": null,
      "metadata": {
        "colab": {
          "base_uri": "https://localhost:8080/"
        },
        "id": "umMvjeIbwrZZ",
        "outputId": "3e25ecf8-e77e-4bc0-e306-c5966b499e84"
      },
      "outputs": [
        {
          "output_type": "stream",
          "name": "stdout",
          "text": [
            "Mounted at /content/gdrive\n"
          ]
        }
      ],
      "source": [
        "import matplotlib.pyplot as plt\n",
        "import matplotlib.patches as patches\n",
        "import numpy as np\n",
        "import tqdm\n",
        "import pandas as pd\n",
        "import gdown\n",
        "from tqdm import tqdm\n",
        "import torchvision\n",
        "\n",
        "from google.colab import drive\n",
        "drive.mount('/content/gdrive')"
      ]
    },
    {
      "cell_type": "code",
      "execution_count": null,
      "metadata": {
        "id": "cZiHZSZAwvJw"
      },
      "outputs": [],
      "source": [
        "!pip install grad-cam\n",
        "from pytorch_grad_cam import GradCAM, HiResCAM, ScoreCAM, GradCAMPlusPlus, AblationCAM, XGradCAM, EigenCAM, FullGrad\n",
        "from pytorch_grad_cam.utils.image import show_cam_on_image\n",
        "from PIL import Image"
      ]
    },
    {
      "cell_type": "code",
      "execution_count": null,
      "metadata": {
        "id": "yAfZNCR6w0y5"
      },
      "outputs": [],
      "source": [
        "!pip install libauc==1.2.0\n",
        "from libauc.losses import AUCMLoss, CrossEntropyLoss\n",
        "from libauc.optimizers import PESG, Adam\n",
        "from libauc.models import densenet121 as DenseNet121\n",
        "from libauc.datasets import CheXpert\n",
        "import libauc\n",
        "\n",
        "import pandas as pd\n",
        "import torch \n",
        "from PIL import Image\n",
        "import numpy as np\n",
        "import torchvision.transforms as transforms\n",
        "from torch.utils.data import Dataset\n",
        "from sklearn.metrics import roc_auc_score, roc_curve, precision_recall_curve, confusion_matrix"
      ]
    },
    {
      "cell_type": "code",
      "execution_count": null,
      "metadata": {
        "id": "H9HlAKFtw2EQ"
      },
      "outputs": [],
      "source": [
        "### Reproducibility\n",
        "def set_all_seeds(SEED):\n",
        "    torch.manual_seed(SEED)\n",
        "    np.random.seed(SEED)\n",
        "    torch.backends.cudnn.deterministic = True\n",
        "    torch.backends.cudnn.benchmark = False\n",
        "\n",
        "SEED = 123\n",
        "set_all_seeds(SEED)"
      ]
    },
    {
      "cell_type": "code",
      "execution_count": null,
      "metadata": {
        "id": "SzIv9mA9xCf5"
      },
      "outputs": [],
      "source": [
        "df_bb = pd.read_csv('/content/gdrive/MyDrive/capstone/BBox_List_2017.csv')\n",
        "df_data_entry = pd.read_csv('/content/gdrive/MyDrive/capstone/Data_Entry_2017.csv')"
      ]
    },
    {
      "cell_type": "code",
      "execution_count": null,
      "metadata": {
        "id": "YR02aoaY0yNd"
      },
      "outputs": [],
      "source": [
        "#!unzip /content/gdrive/MyDrive/cs209_final_project/images_small_train_val.zip\n",
        "!unzip /content/gdrive/MyDrive/cs209_final_project/images_small_test.zip"
      ]
    },
    {
      "cell_type": "code",
      "execution_count": null,
      "metadata": {
        "colab": {
          "base_uri": "https://localhost:8080/",
          "height": 419
        },
        "id": "A2E503ys4kqe",
        "outputId": "8f92a003-2556-465c-f3f0-31f329579d67"
      },
      "outputs": [
        {
          "output_type": "execute_result",
          "data": {
            "text/plain": [
              "     index       Image Index Finding Label     Bbox [x           y  \\\n",
              "0        0  00013118_008.png   Atelectasis  225.084746  547.019217   \n",
              "1        1  00014716_007.png   Atelectasis  686.101695  131.543498   \n",
              "2        2  00029817_009.png   Atelectasis  221.830508  317.053115   \n",
              "3        3  00014687_001.png   Atelectasis  726.237288  494.951420   \n",
              "4        4  00017877_001.png   Atelectasis  660.067797  569.780787   \n",
              "..     ...               ...           ...         ...         ...   \n",
              "474    979  00029464_015.png   Atelectasis  198.940451  352.900747   \n",
              "475    980  00025769_001.png   Atelectasis  701.838229  572.491858   \n",
              "476    981  00016837_002.png   Atelectasis  140.913785  658.962969   \n",
              "477    982  00020124_003.png   Atelectasis  175.047118  580.456302   \n",
              "478    983  00026920_000.png   Atelectasis  343.438229  446.198524   \n",
              "\n",
              "              w          h]  Unnamed: 6  Unnamed: 7  Unnamed: 8  \n",
              "0     86.779661   79.186441         NaN         NaN         NaN  \n",
              "1    185.491525  313.491525         NaN         NaN         NaN  \n",
              "2    155.118644  216.949153         NaN         NaN         NaN  \n",
              "3    141.016949   55.322034         NaN         NaN         NaN  \n",
              "4    200.677966   78.101695         NaN         NaN         NaN  \n",
              "..          ...         ...         ...         ...         ...  \n",
              "474  615.537778  323.128889         NaN         NaN         NaN  \n",
              "475  103.537778   63.715556         NaN         NaN         NaN  \n",
              "476  271.928889   94.435556         NaN         NaN         NaN  \n",
              "477  244.622222  103.537778         NaN         NaN         NaN  \n",
              "478  120.604444   53.475556         NaN         NaN         NaN  \n",
              "\n",
              "[479 rows x 10 columns]"
            ],
            "text/html": [
              "\n",
              "  <div id=\"df-89b58a21-c6ff-4acd-b9b2-89d0aafe0e90\">\n",
              "    <div class=\"colab-df-container\">\n",
              "      <div>\n",
              "<style scoped>\n",
              "    .dataframe tbody tr th:only-of-type {\n",
              "        vertical-align: middle;\n",
              "    }\n",
              "\n",
              "    .dataframe tbody tr th {\n",
              "        vertical-align: top;\n",
              "    }\n",
              "\n",
              "    .dataframe thead th {\n",
              "        text-align: right;\n",
              "    }\n",
              "</style>\n",
              "<table border=\"1\" class=\"dataframe\">\n",
              "  <thead>\n",
              "    <tr style=\"text-align: right;\">\n",
              "      <th></th>\n",
              "      <th>index</th>\n",
              "      <th>Image Index</th>\n",
              "      <th>Finding Label</th>\n",
              "      <th>Bbox [x</th>\n",
              "      <th>y</th>\n",
              "      <th>w</th>\n",
              "      <th>h]</th>\n",
              "      <th>Unnamed: 6</th>\n",
              "      <th>Unnamed: 7</th>\n",
              "      <th>Unnamed: 8</th>\n",
              "    </tr>\n",
              "  </thead>\n",
              "  <tbody>\n",
              "    <tr>\n",
              "      <th>0</th>\n",
              "      <td>0</td>\n",
              "      <td>00013118_008.png</td>\n",
              "      <td>Atelectasis</td>\n",
              "      <td>225.084746</td>\n",
              "      <td>547.019217</td>\n",
              "      <td>86.779661</td>\n",
              "      <td>79.186441</td>\n",
              "      <td>NaN</td>\n",
              "      <td>NaN</td>\n",
              "      <td>NaN</td>\n",
              "    </tr>\n",
              "    <tr>\n",
              "      <th>1</th>\n",
              "      <td>1</td>\n",
              "      <td>00014716_007.png</td>\n",
              "      <td>Atelectasis</td>\n",
              "      <td>686.101695</td>\n",
              "      <td>131.543498</td>\n",
              "      <td>185.491525</td>\n",
              "      <td>313.491525</td>\n",
              "      <td>NaN</td>\n",
              "      <td>NaN</td>\n",
              "      <td>NaN</td>\n",
              "    </tr>\n",
              "    <tr>\n",
              "      <th>2</th>\n",
              "      <td>2</td>\n",
              "      <td>00029817_009.png</td>\n",
              "      <td>Atelectasis</td>\n",
              "      <td>221.830508</td>\n",
              "      <td>317.053115</td>\n",
              "      <td>155.118644</td>\n",
              "      <td>216.949153</td>\n",
              "      <td>NaN</td>\n",
              "      <td>NaN</td>\n",
              "      <td>NaN</td>\n",
              "    </tr>\n",
              "    <tr>\n",
              "      <th>3</th>\n",
              "      <td>3</td>\n",
              "      <td>00014687_001.png</td>\n",
              "      <td>Atelectasis</td>\n",
              "      <td>726.237288</td>\n",
              "      <td>494.951420</td>\n",
              "      <td>141.016949</td>\n",
              "      <td>55.322034</td>\n",
              "      <td>NaN</td>\n",
              "      <td>NaN</td>\n",
              "      <td>NaN</td>\n",
              "    </tr>\n",
              "    <tr>\n",
              "      <th>4</th>\n",
              "      <td>4</td>\n",
              "      <td>00017877_001.png</td>\n",
              "      <td>Atelectasis</td>\n",
              "      <td>660.067797</td>\n",
              "      <td>569.780787</td>\n",
              "      <td>200.677966</td>\n",
              "      <td>78.101695</td>\n",
              "      <td>NaN</td>\n",
              "      <td>NaN</td>\n",
              "      <td>NaN</td>\n",
              "    </tr>\n",
              "    <tr>\n",
              "      <th>...</th>\n",
              "      <td>...</td>\n",
              "      <td>...</td>\n",
              "      <td>...</td>\n",
              "      <td>...</td>\n",
              "      <td>...</td>\n",
              "      <td>...</td>\n",
              "      <td>...</td>\n",
              "      <td>...</td>\n",
              "      <td>...</td>\n",
              "      <td>...</td>\n",
              "    </tr>\n",
              "    <tr>\n",
              "      <th>474</th>\n",
              "      <td>979</td>\n",
              "      <td>00029464_015.png</td>\n",
              "      <td>Atelectasis</td>\n",
              "      <td>198.940451</td>\n",
              "      <td>352.900747</td>\n",
              "      <td>615.537778</td>\n",
              "      <td>323.128889</td>\n",
              "      <td>NaN</td>\n",
              "      <td>NaN</td>\n",
              "      <td>NaN</td>\n",
              "    </tr>\n",
              "    <tr>\n",
              "      <th>475</th>\n",
              "      <td>980</td>\n",
              "      <td>00025769_001.png</td>\n",
              "      <td>Atelectasis</td>\n",
              "      <td>701.838229</td>\n",
              "      <td>572.491858</td>\n",
              "      <td>103.537778</td>\n",
              "      <td>63.715556</td>\n",
              "      <td>NaN</td>\n",
              "      <td>NaN</td>\n",
              "      <td>NaN</td>\n",
              "    </tr>\n",
              "    <tr>\n",
              "      <th>476</th>\n",
              "      <td>981</td>\n",
              "      <td>00016837_002.png</td>\n",
              "      <td>Atelectasis</td>\n",
              "      <td>140.913785</td>\n",
              "      <td>658.962969</td>\n",
              "      <td>271.928889</td>\n",
              "      <td>94.435556</td>\n",
              "      <td>NaN</td>\n",
              "      <td>NaN</td>\n",
              "      <td>NaN</td>\n",
              "    </tr>\n",
              "    <tr>\n",
              "      <th>477</th>\n",
              "      <td>982</td>\n",
              "      <td>00020124_003.png</td>\n",
              "      <td>Atelectasis</td>\n",
              "      <td>175.047118</td>\n",
              "      <td>580.456302</td>\n",
              "      <td>244.622222</td>\n",
              "      <td>103.537778</td>\n",
              "      <td>NaN</td>\n",
              "      <td>NaN</td>\n",
              "      <td>NaN</td>\n",
              "    </tr>\n",
              "    <tr>\n",
              "      <th>478</th>\n",
              "      <td>983</td>\n",
              "      <td>00026920_000.png</td>\n",
              "      <td>Atelectasis</td>\n",
              "      <td>343.438229</td>\n",
              "      <td>446.198524</td>\n",
              "      <td>120.604444</td>\n",
              "      <td>53.475556</td>\n",
              "      <td>NaN</td>\n",
              "      <td>NaN</td>\n",
              "      <td>NaN</td>\n",
              "    </tr>\n",
              "  </tbody>\n",
              "</table>\n",
              "<p>479 rows × 10 columns</p>\n",
              "</div>\n",
              "      <button class=\"colab-df-convert\" onclick=\"convertToInteractive('df-89b58a21-c6ff-4acd-b9b2-89d0aafe0e90')\"\n",
              "              title=\"Convert this dataframe to an interactive table.\"\n",
              "              style=\"display:none;\">\n",
              "        \n",
              "  <svg xmlns=\"http://www.w3.org/2000/svg\" height=\"24px\"viewBox=\"0 0 24 24\"\n",
              "       width=\"24px\">\n",
              "    <path d=\"M0 0h24v24H0V0z\" fill=\"none\"/>\n",
              "    <path d=\"M18.56 5.44l.94 2.06.94-2.06 2.06-.94-2.06-.94-.94-2.06-.94 2.06-2.06.94zm-11 1L8.5 8.5l.94-2.06 2.06-.94-2.06-.94L8.5 2.5l-.94 2.06-2.06.94zm10 10l.94 2.06.94-2.06 2.06-.94-2.06-.94-.94-2.06-.94 2.06-2.06.94z\"/><path d=\"M17.41 7.96l-1.37-1.37c-.4-.4-.92-.59-1.43-.59-.52 0-1.04.2-1.43.59L10.3 9.45l-7.72 7.72c-.78.78-.78 2.05 0 2.83L4 21.41c.39.39.9.59 1.41.59.51 0 1.02-.2 1.41-.59l7.78-7.78 2.81-2.81c.8-.78.8-2.07 0-2.86zM5.41 20L4 18.59l7.72-7.72 1.47 1.35L5.41 20z\"/>\n",
              "  </svg>\n",
              "      </button>\n",
              "      \n",
              "  <style>\n",
              "    .colab-df-container {\n",
              "      display:flex;\n",
              "      flex-wrap:wrap;\n",
              "      gap: 12px;\n",
              "    }\n",
              "\n",
              "    .colab-df-convert {\n",
              "      background-color: #E8F0FE;\n",
              "      border: none;\n",
              "      border-radius: 50%;\n",
              "      cursor: pointer;\n",
              "      display: none;\n",
              "      fill: #1967D2;\n",
              "      height: 32px;\n",
              "      padding: 0 0 0 0;\n",
              "      width: 32px;\n",
              "    }\n",
              "\n",
              "    .colab-df-convert:hover {\n",
              "      background-color: #E2EBFA;\n",
              "      box-shadow: 0px 1px 2px rgba(60, 64, 67, 0.3), 0px 1px 3px 1px rgba(60, 64, 67, 0.15);\n",
              "      fill: #174EA6;\n",
              "    }\n",
              "\n",
              "    [theme=dark] .colab-df-convert {\n",
              "      background-color: #3B4455;\n",
              "      fill: #D2E3FC;\n",
              "    }\n",
              "\n",
              "    [theme=dark] .colab-df-convert:hover {\n",
              "      background-color: #434B5C;\n",
              "      box-shadow: 0px 1px 3px 1px rgba(0, 0, 0, 0.15);\n",
              "      filter: drop-shadow(0px 1px 2px rgba(0, 0, 0, 0.3));\n",
              "      fill: #FFFFFF;\n",
              "    }\n",
              "  </style>\n",
              "\n",
              "      <script>\n",
              "        const buttonEl =\n",
              "          document.querySelector('#df-89b58a21-c6ff-4acd-b9b2-89d0aafe0e90 button.colab-df-convert');\n",
              "        buttonEl.style.display =\n",
              "          google.colab.kernel.accessAllowed ? 'block' : 'none';\n",
              "\n",
              "        async function convertToInteractive(key) {\n",
              "          const element = document.querySelector('#df-89b58a21-c6ff-4acd-b9b2-89d0aafe0e90');\n",
              "          const dataTable =\n",
              "            await google.colab.kernel.invokeFunction('convertToInteractive',\n",
              "                                                     [key], {});\n",
              "          if (!dataTable) return;\n",
              "\n",
              "          const docLinkHtml = 'Like what you see? Visit the ' +\n",
              "            '<a target=\"_blank\" href=https://colab.research.google.com/notebooks/data_table.ipynb>data table notebook</a>'\n",
              "            + ' to learn more about interactive tables.';\n",
              "          element.innerHTML = '';\n",
              "          dataTable['output_type'] = 'display_data';\n",
              "          await google.colab.output.renderOutput(dataTable, element);\n",
              "          const docLink = document.createElement('div');\n",
              "          docLink.innerHTML = docLinkHtml;\n",
              "          element.appendChild(docLink);\n",
              "        }\n",
              "      </script>\n",
              "    </div>\n",
              "  </div>\n",
              "  "
            ]
          },
          "metadata": {},
          "execution_count": 7
        }
      ],
      "source": [
        "df_bb = df_bb[(df_bb['Finding Label'] == 'Atelectasis')|(df_bb['Finding Label'] == 'Cardiomegaly')|(df_bb['Finding Label'] == 'Effusion')]\n",
        "df_bb = df_bb.reset_index()\n",
        "n = df_bb.shape[0]\n",
        "df_bb"
      ]
    },
    {
      "cell_type": "code",
      "execution_count": null,
      "metadata": {
        "id": "8lXIZWzm5Yi-"
      },
      "outputs": [],
      "source": [
        "### Model: Load pre-trained model\n",
        "model = DenseNet121(pretrained=True, last_activation='sigmoid', activations='relu', num_classes=5) # initialize model\n",
        "\n",
        "# CPU\n",
        "#model.load_state_dict(torch.load('/content/gdrive/MyDrive/capstone/trained_auc_model.pt', map_location=torch.device('cpu'))) # load trained model\n",
        "\n",
        "# GPU\n",
        "model = model.cuda()\n",
        "model.load_state_dict(torch.load('/content/gdrive/MyDrive/capstone/trained_auc_model.pt')) # load trained model\n",
        "model.eval()"
      ]
    },
    {
      "cell_type": "code",
      "execution_count": null,
      "metadata": {
        "id": "T3TNECkf7zvw"
      },
      "outputs": [],
      "source": [
        "def calculate_IoUs(method, threshold, num = n):\n",
        "  IoUs = []\n",
        "  for index in tqdm(range(num)):\n",
        "    x = torchvision.io.read_image('images_small_test/' + df_bb['Image Index'][index])\n",
        "    transform_1 = torchvision.transforms.Resize(size = (224, 224))\n",
        "    transform_2 = torchvision.transforms.ToTensor()\n",
        "    x = transform_1(x)\n",
        "    x = transform_2(np.array(x))\n",
        "    x = x.permute(1, 2, 0)\n",
        "    x = torch.unsqueeze(x, dim=0)\n",
        "    x = x.cuda()\n",
        "    x.shape\n",
        "\n",
        "    target_layers = [model.features[-1]]\n",
        "\n",
        "    if method == 'GradCAM':\n",
        "      cam = GradCAM(model=model, target_layers=target_layers)\n",
        "    elif method == 'HiResCAM':\n",
        "      cam = HiResCAM(model=model, target_layers=target_layers)\n",
        "    elif method == 'GradCAMPlusPlus':\n",
        "      cam = GradCAMPlusPlus(model=model, target_layers=target_layers)\n",
        "\n",
        "    grayscale_cam = cam(input_tensor=x)[0, :, :]\n",
        "    grayscale_cam = (grayscale_cam > threshold).astype(int)\n",
        "\n",
        "    #rgb_img = x[0, :, :, :]\n",
        "    #rgb_img = rgb_img.permute(1, 2, 0)\n",
        "    #rgb_img = rgb_img.cpu().detach().numpy()\n",
        "    #rgb_img = (rgb_img - np.min(rgb_img)) / (np.max(rgb_img) - np.min(rgb_img))\n",
        "    #visualization = show_cam_on_image(img = rgb_img, mask = grayscale_cam, use_rgb=True)\n",
        "\n",
        "    #Image.fromarray(visualization, 'RGB')\n",
        "\n",
        "    # Create figure and axes\n",
        "    #fig, ax = plt.subplots()\n",
        "\n",
        "    # Display the image\n",
        "    #ax.imshow(x[0, 0, :, :])\n",
        "\n",
        "    # Create a Rectangle patch\n",
        "    factor = 224/1024\n",
        "    condition = df_bb['Image Index'] == df_bb['Image Index'][index]\n",
        "    x_min = df_bb[condition]['Bbox [x'].values[0]*factor\n",
        "    y_min = df_bb[condition]['y'].values[0]*factor\n",
        "    w = df_bb[condition]['w'].values[0]*factor\n",
        "    h = df_bb[condition]['h]'].values[0]*factor\n",
        "    #rect = patches.Rectangle((x_min, y_min), w, h, linewidth=1, edgecolor='r', facecolor='none')\n",
        "\n",
        "    # Add the patch to the Axes\n",
        "    #ax.add_patch(rect)\n",
        "\n",
        "    #plt.show()\n",
        "\n",
        "    x_bb = np.zeros((224, 224)).astype(bool)\n",
        "    x_bb[np.int(y_min):np.int(y_min + h), np.int(x_min):np.int(x_min + w)] = True\n",
        "\n",
        "    x_sal = (grayscale_cam > threshold).astype(bool)\n",
        "\n",
        "    x_intersect = np.bitwise_and(x_bb, x_sal)\n",
        "    x_union = np.bitwise_or(x_bb, x_sal)\n",
        "\n",
        "    IoU = np.sum(x_intersect)/np.sum(x_union)\n",
        "    IoUs.append(IoU)\n",
        "\n",
        "  return IoUs"
      ]
    },
    {
      "cell_type": "code",
      "execution_count": null,
      "metadata": {
        "colab": {
          "base_uri": "https://localhost:8080/"
        },
        "id": "e8OdE7LUQQTe",
        "outputId": "f7762737-030c-4f62-e600-49c4d45e904c"
      },
      "outputs": [
        {
          "metadata": {
            "tags": null
          },
          "name": "stderr",
          "output_type": "stream",
          "text": [
            "  0%|          | 0/479 [00:00<?, ?it/s]<ipython-input-9-93ed0435418d>:55: DeprecationWarning: `np.int` is a deprecated alias for the builtin `int`. To silence this warning, use `int` by itself. Doing this will not modify any behavior and is safe. When replacing `np.int`, you may wish to use e.g. `np.int64` or `np.int32` to specify the precision. If you wish to review your current use, check the release note link for additional information.\n",
            "Deprecated in NumPy 1.20; for more details and guidance: https://numpy.org/devdocs/release/1.20.0-notes.html#deprecations\n",
            "  x_bb[np.int(y_min):np.int(y_min + h), np.int(x_min):np.int(x_min + w)] = True\n",
            "100%|██████████| 479/479 [00:39<00:00, 12.21it/s]\n"
          ]
        },
        {
          "metadata": {
            "tags": null
          },
          "name": "stdout",
          "output_type": "stream",
          "text": [
            "0.13514708111682563\n"
          ]
        },
        {
          "metadata": {
            "tags": null
          },
          "name": "stderr",
          "output_type": "stream",
          "text": [
            "100%|██████████| 479/479 [00:41<00:00, 11.56it/s]\n"
          ]
        },
        {
          "metadata": {
            "tags": null
          },
          "name": "stdout",
          "output_type": "stream",
          "text": [
            "0.13547895873363047\n"
          ]
        },
        {
          "metadata": {
            "tags": null
          },
          "name": "stderr",
          "output_type": "stream",
          "text": [
            "100%|██████████| 479/479 [00:38<00:00, 12.43it/s]\n"
          ]
        },
        {
          "metadata": {
            "tags": null
          },
          "name": "stdout",
          "output_type": "stream",
          "text": [
            "0.10037066410926637\n"
          ]
        },
        {
          "metadata": {
            "tags": null
          },
          "name": "stderr",
          "output_type": "stream",
          "text": [
            "100%|██████████| 479/479 [00:37<00:00, 12.67it/s]\n"
          ]
        },
        {
          "metadata": {
            "tags": null
          },
          "name": "stdout",
          "output_type": "stream",
          "text": [
            "0.1453022247500685\n"
          ]
        },
        {
          "metadata": {
            "tags": null
          },
          "name": "stderr",
          "output_type": "stream",
          "text": [
            "100%|██████████| 479/479 [00:37<00:00, 12.72it/s]\n"
          ]
        },
        {
          "metadata": {
            "tags": null
          },
          "name": "stdout",
          "output_type": "stream",
          "text": [
            "0.14364399974644207\n"
          ]
        },
        {
          "metadata": {
            "tags": null
          },
          "name": "stderr",
          "output_type": "stream",
          "text": [
            "100%|██████████| 479/479 [00:39<00:00, 12.09it/s]\n"
          ]
        },
        {
          "metadata": {
            "tags": null
          },
          "name": "stdout",
          "output_type": "stream",
          "text": [
            "0.12356038985907661\n"
          ]
        },
        {
          "metadata": {
            "tags": null
          },
          "name": "stderr",
          "output_type": "stream",
          "text": [
            "100%|██████████| 479/479 [00:38<00:00, 12.58it/s]\n"
          ]
        },
        {
          "metadata": {
            "tags": null
          },
          "name": "stdout",
          "output_type": "stream",
          "text": [
            "0.15153311444060055\n"
          ]
        },
        {
          "metadata": {
            "tags": null
          },
          "name": "stderr",
          "output_type": "stream",
          "text": [
            "100%|██████████| 479/479 [00:37<00:00, 12.70it/s]\n"
          ]
        },
        {
          "metadata": {
            "tags": null
          },
          "name": "stdout",
          "output_type": "stream",
          "text": [
            "0.14318227311666168\n"
          ]
        },
        {
          "metadata": {
            "tags": null
          },
          "name": "stderr",
          "output_type": "stream",
          "text": [
            "100%|██████████| 479/479 [00:37<00:00, 12.63it/s]\n"
          ]
        },
        {
          "metadata": {
            "tags": null
          },
          "name": "stdout",
          "output_type": "stream",
          "text": [
            "0.14532275574976153\n"
          ]
        },
        {
          "metadata": {
            "tags": null
          },
          "name": "stderr",
          "output_type": "stream",
          "text": [
            "100%|██████████| 479/479 [00:39<00:00, 12.20it/s]\n"
          ]
        },
        {
          "metadata": {
            "tags": null
          },
          "name": "stdout",
          "output_type": "stream",
          "text": [
            "0.1511900118013828\n"
          ]
        },
        {
          "metadata": {
            "tags": null
          },
          "name": "stderr",
          "output_type": "stream",
          "text": [
            "100%|██████████| 479/479 [00:37<00:00, 12.69it/s]\n"
          ]
        },
        {
          "metadata": {
            "tags": null
          },
          "name": "stdout",
          "output_type": "stream",
          "text": [
            "0.13556435718326573\n"
          ]
        },
        {
          "metadata": {
            "tags": null
          },
          "name": "stderr",
          "output_type": "stream",
          "text": [
            "100%|██████████| 479/479 [00:38<00:00, 12.54it/s]\n"
          ]
        },
        {
          "metadata": {
            "tags": null
          },
          "name": "stdout",
          "output_type": "stream",
          "text": [
            "0.16285385557718418\n"
          ]
        },
        {
          "metadata": {
            "tags": null
          },
          "name": "stderr",
          "output_type": "stream",
          "text": [
            "100%|██████████| 479/479 [00:37<00:00, 12.68it/s]\n"
          ]
        },
        {
          "metadata": {
            "tags": null
          },
          "name": "stdout",
          "output_type": "stream",
          "text": [
            "0.14374110584584757\n"
          ]
        },
        {
          "metadata": {
            "tags": null
          },
          "name": "stderr",
          "output_type": "stream",
          "text": [
            "100%|██████████| 479/479 [00:39<00:00, 12.26it/s]\n"
          ]
        },
        {
          "metadata": {
            "tags": null
          },
          "name": "stdout",
          "output_type": "stream",
          "text": [
            "0.12322833990679875\n"
          ]
        },
        {
          "metadata": {
            "tags": null
          },
          "name": "stderr",
          "output_type": "stream",
          "text": [
            "100%|██████████| 479/479 [00:37<00:00, 12.61it/s]\n"
          ]
        },
        {
          "metadata": {
            "tags": null
          },
          "name": "stdout",
          "output_type": "stream",
          "text": [
            "0.1730358631517628\n"
          ]
        },
        {
          "metadata": {
            "tags": null
          },
          "name": "stderr",
          "output_type": "stream",
          "text": [
            "100%|██████████| 479/479 [00:38<00:00, 12.60it/s]\n"
          ]
        },
        {
          "metadata": {
            "tags": null
          },
          "name": "stdout",
          "output_type": "stream",
          "text": [
            "0.12728062441799526\n"
          ]
        },
        {
          "metadata": {
            "tags": null
          },
          "name": "stderr",
          "output_type": "stream",
          "text": [
            "100%|██████████| 479/479 [00:38<00:00, 12.56it/s]\n"
          ]
        },
        {
          "metadata": {
            "tags": null
          },
          "name": "stdout",
          "output_type": "stream",
          "text": [
            "0.10710265483317925\n"
          ]
        },
        {
          "metadata": {
            "tags": null
          },
          "name": "stderr",
          "output_type": "stream",
          "text": [
            "100%|██████████| 479/479 [00:38<00:00, 12.36it/s]\n"
          ]
        },
        {
          "metadata": {
            "tags": null
          },
          "name": "stdout",
          "output_type": "stream",
          "text": [
            "0.17019994827702137\n"
          ]
        },
        {
          "metadata": {
            "tags": null
          },
          "name": "stderr",
          "output_type": "stream",
          "text": [
            "100%|██████████| 479/479 [00:38<00:00, 12.36it/s]\n"
          ]
        },
        {
          "metadata": {
            "tags": null
          },
          "name": "stdout",
          "output_type": "stream",
          "text": [
            "0.10268990252386066\n"
          ]
        },
        {
          "metadata": {
            "tags": null
          },
          "name": "stderr",
          "output_type": "stream",
          "text": [
            "100%|██████████| 479/479 [00:38<00:00, 12.53it/s]\n"
          ]
        },
        {
          "metadata": {
            "tags": null
          },
          "name": "stdout",
          "output_type": "stream",
          "text": [
            "0.08626810294667173\n"
          ]
        },
        {
          "metadata": {
            "tags": null
          },
          "name": "stderr",
          "output_type": "stream",
          "text": [
            "100%|██████████| 479/479 [00:37<00:00, 12.61it/s]\n"
          ]
        },
        {
          "metadata": {
            "tags": null
          },
          "name": "stdout",
          "output_type": "stream",
          "text": [
            "0.1501156058463428\n"
          ]
        },
        {
          "metadata": {
            "tags": null
          },
          "name": "stderr",
          "output_type": "stream",
          "text": [
            "100%|██████████| 479/479 [00:38<00:00, 12.60it/s]\n"
          ]
        },
        {
          "metadata": {
            "tags": null
          },
          "name": "stdout",
          "output_type": "stream",
          "text": [
            "0.06731407708004111\n"
          ]
        },
        {
          "metadata": {
            "tags": null
          },
          "name": "stderr",
          "output_type": "stream",
          "text": [
            "100%|██████████| 479/479 [00:39<00:00, 12.26it/s]\n"
          ]
        },
        {
          "metadata": {
            "tags": null
          },
          "name": "stdout",
          "output_type": "stream",
          "text": [
            "0.057820609255489916\n"
          ]
        },
        {
          "metadata": {
            "tags": null
          },
          "name": "stderr",
          "output_type": "stream",
          "text": [
            "100%|██████████| 479/479 [00:36<00:00, 13.02it/s]\n"
          ]
        },
        {
          "metadata": {
            "tags": null
          },
          "name": "stdout",
          "output_type": "stream",
          "text": [
            "0.11446726298751134\n"
          ]
        },
        {
          "metadata": {
            "tags": null
          },
          "name": "stderr",
          "output_type": "stream",
          "text": [
            "100%|██████████| 479/479 [00:36<00:00, 13.29it/s]\n"
          ]
        },
        {
          "metadata": {
            "tags": null
          },
          "name": "stdout",
          "output_type": "stream",
          "text": [
            "0.026224709409235505\n"
          ]
        },
        {
          "output_type": "stream",
          "name": "stderr",
          "text": [
            "100%|██████████| 479/479 [00:36<00:00, 13.26it/s]\n"
          ]
        },
        {
          "output_type": "stream",
          "name": "stdout",
          "text": [
            "0.02366794003610893\n"
          ]
        },
        {
          "output_type": "stream",
          "name": "stderr",
          "text": [
            "100%|██████████| 479/479 [00:38<00:00, 12.51it/s]"
          ]
        },
        {
          "output_type": "stream",
          "name": "stdout",
          "text": [
            "0.060608818423013605\n"
          ]
        },
        {
          "output_type": "stream",
          "name": "stderr",
          "text": [
            "\n"
          ]
        }
      ],
      "source": [
        "saliency_methods = ['GradCAM', 'HiResCAM', 'GradCAMPlusPlus']\n",
        "thresholds = [0.1, 0.2, 0.3, 0.4, 0.5, 0.6, 0.7, 0.8, 0.9]\n",
        "\n",
        "metrics_df = pd.DataFrame(columns= ['Threshold'] + saliency_methods)\n",
        "\n",
        "for threshold in thresholds:\n",
        "  IoUs = []\n",
        "  for saliency_method in saliency_methods:\n",
        "    IoU_list = calculate_IoUs(method = saliency_method, threshold = threshold, num = n)\n",
        "    IoU = np.mean(IoU_list)\n",
        "    IoUs.append(IoU)\n",
        "    print(IoU)\n",
        "  \n",
        "  metrics_df = pd.concat([metrics_df, pd.DataFrame(data=[[threshold] + IoUs], columns=metrics_df.columns)])"
      ]
    },
    {
      "cell_type": "code",
      "execution_count": null,
      "metadata": {
        "id": "V9Q_PCsGWUX9"
      },
      "outputs": [],
      "source": [
        "metrics_df"
      ]
    },
    {
      "cell_type": "code",
      "execution_count": null,
      "metadata": {
        "id": "UsNTJfbQXwRB"
      },
      "outputs": [],
      "source": [
        "# Up to index 20\n",
        "# Works well on: 7, 12\n",
        "# Works bad on: 2, 3\n",
        "index = 2\n",
        "x = torchvision.io.read_image('images_small_test/' + df_bb['Image Index'][index])\n",
        "transform_1 = torchvision.transforms.Resize(size = (224, 224))\n",
        "transform_2 = torchvision.transforms.ToTensor()\n",
        "x = transform_1(x)\n",
        "x = transform_2(np.array(x))\n",
        "x = x.permute(1, 2, 0)\n",
        "x = torch.unsqueeze(x, dim=0)\n",
        "x = x.cuda()\n",
        "x.shape\n",
        "\n",
        "target_layers = [model.features[-1]] # 0 to 11 -> 12 different features\n",
        "\n",
        "cam = GradCAM(model=model, target_layers=target_layers)\n",
        "\n",
        "grayscale_cam = cam(input_tensor=x)[0, :, :]\n",
        "threshold = 0.5\n",
        "grayscale_cam = (grayscale_cam > threshold).astype(int)\n",
        "\n",
        "rgb_img = x[0, :, :, :]\n",
        "rgb_img = rgb_img.permute(1, 2, 0)\n",
        "rgb_img = rgb_img.cpu().detach().numpy()\n",
        "rgb_img = (rgb_img - np.min(rgb_img)) / (np.max(rgb_img) - np.min(rgb_img))\n",
        "visualization = show_cam_on_image(img = rgb_img, mask = grayscale_cam, use_rgb=True)\n",
        "\n",
        "# Create figure and axes\n",
        "fig, ax = plt.subplots()\n",
        "\n",
        "# Display the image\n",
        "x = x.cpu().detach().numpy()\n",
        "ax.imshow(x[0, 0, :, :])\n",
        "\n",
        "ax.imshow(visualization)\n",
        "\n",
        "# Create a Rectangle patch\n",
        "factor = 224/1024\n",
        "condition = df_bb['Image Index'] == df_bb['Image Index'][index]\n",
        "x_min = df_bb[condition]['Bbox [x'].values[0]*factor\n",
        "y_min = df_bb[condition]['y'].values[0]*factor\n",
        "w = df_bb[condition]['w'].values[0]*factor\n",
        "h = df_bb[condition]['h]'].values[0]*factor\n",
        "rect = patches.Rectangle((x_min, y_min), w, h, linewidth=1, edgecolor='r', facecolor='none')\n",
        "\n",
        "# Add the patch to the Axes\n",
        "ax.add_patch(rect)\n",
        "\n",
        "plt.show()"
      ]
    },
    {
      "cell_type": "code",
      "execution_count": null,
      "metadata": {
        "id": "9bMj1K0jaQ7u"
      },
      "outputs": [],
      "source": [
        "model.features # 12 features, the last one is (norm5)"
      ]
    },
    {
      "cell_type": "code",
      "execution_count": null,
      "metadata": {
        "id": "l1ZZYH075w7B"
      },
      "outputs": [],
      "source": []
    }
  ],
  "metadata": {
    "accelerator": "GPU",
    "colab": {
      "provenance": []
    },
    "gpuClass": "standard",
    "kernelspec": {
      "display_name": "Python 3",
      "name": "python3"
    },
    "language_info": {
      "name": "python"
    }
  },
  "nbformat": 4,
  "nbformat_minor": 0
}